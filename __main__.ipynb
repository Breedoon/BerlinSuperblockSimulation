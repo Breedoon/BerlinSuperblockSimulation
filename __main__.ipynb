{
 "cells": [
  {
   "cell_type": "code",
   "execution_count": 1,
   "metadata": {
    "pycharm": {
     "name": "#%%\n"
    }
   },
   "outputs": [],
   "source": [
    "import copy\n",
    "import matplotlib as mpl\n",
    "import matplotlib.pyplot as plt\n",
    "import matplotlib.animation as anim\n",
    "import numpy as np\n",
    "import pandas as pd\n",
    "from pandas import Timedelta as td\n",
    "from queue import PriorityQueue\n",
    "from scipy import stats\n",
    "import networkx as nx\n",
    "from tqdm import tqdm"
   ]
  },
  {
   "cell_type": "code",
   "execution_count": null,
   "outputs": [],
   "source": [
    "# Parameters of the simulation\n",
    "AVG_BIKE_LEN_M = 2  # length of an average bike\n",
    "AVG_WALK_LEN_M = 0.5  # length of a walking person\n",
    "AVG_CAR_LEN_M = 6  # length of an average car in meters (including space before and after that it needs to move)\n",
    "\n",
    "AVG_BIKE_SPEED_KMH = 22\n",
    "AVG_WALK_SPEED_KMH = 5\n",
    "# Cars are assumed to always drive at speed limit\n",
    "\n",
    "# for occupancy < 10%: 100% speed, above 20%: linearly speed 100% -> 0% as occupancy 10% -> 60%\n",
    "CAR_OCCUPANCY_TO_SPEED_MULT = lambda occ: max(0, min(1, 1 - (occ - 0.1) / (1 - 0.3)))\n",
    "# for occupancy < 50%: 100% speed, above 20%: linearly speed 100% -> 16% (slow walking) as occupancy 50% -> 100%\n",
    "BIKE_OCCUPANCY_TO_SPEED_MULT = lambda occ: max(0, min(1, 1 - (occ - 0.5) / (1 - 0.4)))\n",
    "# for occupancy < 50%: 100% speed, above 20%: linearly speed 100% -> 37% (very slow walking) as occupancy 50% -> 100%\n",
    "WALK_OCCUPANCY_TO_SPEED_MULT = lambda occ: max(0, min(1, 1 - (occ - 0.5) / (1 - 0.2)))\n",
    "\n",
    "AVG_LENS = (AVG_CAR_LEN_M, AVG_BIKE_LEN_M, AVG_WALK_LEN_M)\n",
    "OCCUPANCY_TO_SPEED_MULT = (CAR_OCCUPANCY_TO_SPEED_MULT, BIKE_OCCUPANCY_TO_SPEED_MULT, WALK_OCCUPANCY_TO_SPEED_MULT)\n",
    "\n",
    "# The streets are represented as a graph; each node is an intersection\n",
    "# Only top right triangle needs to be filled, since the graph is not directed\n",
    "streets = np.array([\n",
    "    # [from, to, length, speedlimit, carlanes, bikelanes, sidewalks, is bidirectional]\n",
    "    [0, 1, 300, 50, 1, 1, 4, 1],\n",
    "    [1, 2, 300, 50, 1, 1, 4, 1],\n",
    "    [2, 3, 220, 50, 1, 0, 2, 1],\n",
    "    [3, 4, 170, 50, 1, 0, 2, 1],\n",
    "    [4, 5, 200, 50, 2, 0, 2, 1],\n",
    "    [5, 6, 120, 50, 2, 0, 2, 1],\n",
    "    [6, 7, 300, 50, 2, 0, 2, 1],\n",
    "    [7, 8, 200, 50, 1, 1, 2, 1],\n",
    "    [8, 0, 170, 30, 1, 1, 2, 1],\n",
    "    [8, 9, 250, 30, 1, 0, 2, 1],\n",
    "    [1, 9, 250, 30, 1, 0, 2, 1],\n",
    "    [1, 10, 250, 30, 1, 0, 2, 1],\n",
    "    [9, 10, 120, 30, 1, 0, 2, 1],\n",
    "    [3, 10, 170, 30, 1, 0, 2, 1],\n",
    "    [6, 9, 170, 30, 1, 0, 2, 1],\n",
    "    [5, 10, 170, 30, 1, 0, 2, 1],\n",
    "    [7, 11, 140, 50, 1, 1, 2, 1],\n",
    "    [11, 12, 230, 50, 1, 1, 2, 1],\n",
    "    [12, 13, 150, 50, 1, 1, 2, 1],\n",
    "    [13, 14, 300, 50, 2, 1, 2, 1],\n",
    "    [14, 15, 120, 50, 2, 1, 2, 1],\n",
    "    [15, 16, 200, 50, 2, 1, 2, 1],\n",
    "    [16, 17, 130, 50, 1, 1, 2, 1],\n",
    "    [17, 4, 120, 50, 1, 1, 2, 1],\n",
    "    [11, 18, 250, 30, 1, 0, 2, 1],\n",
    "    [12, 18, 200, 30, 1, 0, 2, 1],\n",
    "    [14, 18, 220, 30, 1, 0, 2, 1],\n",
    "    [18, 19, 200, 30, 1, 0, 2, 1],\n",
    "    [17, 19, 200, 30, 1, 0, 2, 1],\n",
    "    [5, 19, 250, 30, 1, 0, 2, 1],\n",
    "    [6, 19, 260, 30, 1, 0, 2, 1],\n",
    "    [15, 19, 400, 30, 1, 0, 2, 1],\n",
    "    [14, 19, 460, 30, 1, 0, 2, 1],\n",
    "])\n",
    "\n",
    "# Preprocess streets\n",
    "# Add bidirectional streets from the other direction\n",
    "bidir = streets[streets[:, -1] == 1].copy()\n",
    "bidir[:, [0, 1]] = bidir[:, [1, 0]]\n",
    "streets = np.vstack([streets, bidir])\n",
    "\n",
    "n_nodes = int(streets[:, :2].max() + 1)\n",
    "streets[:, -1] = np.arange(len(streets))  # indices of streets\n",
    "piv_streets = (pd.pivot(pd.DataFrame([streets[:, 0], streets[:, 1], streets[:, 2:]]).T, index=0, columns=1, values=2)\n",
    "               .reindex(range(n_nodes)).reindex(range(n_nodes), axis=1))\n",
    "\n",
    "piv_streets = np.array([[list(v) if type(v) == np.ndarray else [0, 0, 0, 0, 0, 0] for v in row]\n",
    "                        for row in piv_streets.values])\n",
    "\n",
    "# piv_streets[i, j, c] = characteristic `c` of street between nodes `i` and `j`, where `c` is one of the following:\n",
    "DIST = 0\n",
    "MAX_SPEED = 1\n",
    "CAR_LANES = 2\n",
    "BIKE_LANES = 3\n",
    "SIDEWALKS = 4\n",
    "STREET_ID = 5\n",
    "\n",
    "ind_to_transp = ['car', 'bike', 'walk']\n",
    "transp_to_ind = {'car': 0, 'bike': 1, 'walk': 2}"
   ],
   "metadata": {
    "collapsed": false,
    "pycharm": {
     "name": "#%%\n"
    }
   }
  },
  {
   "cell_type": "code",
   "execution_count": 3,
   "metadata": {
    "pycharm": {
     "name": "#%%\n"
    }
   },
   "outputs": [],
   "source": [
    "class Environment:\n",
    "    def __init__(self, events: list, run_for=td('1 day'), timeunit=td('1 minute'), store_history=False):\n",
    "        \"\"\"\n",
    "        :param list[Event] events: list of Event instances; each event will be triggered at each time step\n",
    "        :param pd.Timedelta run_for: how long the simulation will run for\n",
    "        :param timeunit: duration of one step of the simulation; the lower = slower & more accurate\n",
    "        :param store_history: whether the config at each step should be stored (e.g., queue lengths etc)\n",
    "        \"\"\"\n",
    "        self.timeunit = timeunit\n",
    "        self.timeout = run_for\n",
    "        self.events = events\n",
    "\n",
    "        # a Series of, e.g.: ['0 days 00:00:00', '0 days 00:01:00', ... '1 days 23:59:00', '2 days 00:00:00']\n",
    "        self.timeline = pd.timedelta_range(start=td('0'), end=run_for, freq=timeunit)\n",
    "\n",
    "        self.config = {}  # a pool of *global* variables shared by all events in the environment\n",
    "        self.config['events'] = events  # store events into  config as well\n",
    "\n",
    "        self.store_history = store_history\n",
    "        if store_history:\n",
    "            self.config_history = [] * len(self.timeline)  # configs before each of timestamps in `timeline`\n",
    "\n",
    "        # Let each event initialize config\n",
    "        for event in events:\n",
    "            event.init_config(self.config)\n",
    "\n",
    "    def run(self, verbose_func=lambda t, c: None, termination_func=lambda t, c: False):\n",
    "        \"\"\"\n",
    "        Runs the simulation by running every time period\n",
    "        :param verbose_func: function to be called on every step with two arguments: time and config.\n",
    "        :param termination_func: function to be called on every step with two arguments: time and config,\n",
    "            and if it returns True, the simulation will be terminated\n",
    "        \"\"\"\n",
    "        periods = list(zip(self.timeline[:-1], self.timeline[1:]))  # eg: [(00:00, 00:01), ..., (00:59, 00:00)]\n",
    "        verbose_func(self.timeline[0], self.config)\n",
    "        for start, end in tqdm(periods):\n",
    "            if self.store_history:\n",
    "                self.config_history.append(copy.deepcopy(self.config))\n",
    "\n",
    "            for event in self.events:\n",
    "                event.trigger(start, end)\n",
    "\n",
    "            verbose_func(end, self.config)\n",
    "\n",
    "            if termination_func(end, self.config):\n",
    "                break\n",
    "\n",
    "        if self.store_history:\n",
    "            self.config_history.append(self.config)\n",
    "\n",
    "\n",
    "class Event:\n",
    "    def __init__(self):\n",
    "        self.config = None  # will be initialized in init_config() when called from Environment's __init__()\n",
    "\n",
    "    def init_config(self, config):\n",
    "        self.config = config\n",
    "\n",
    "    def trigger(self, start_time, end_time):\n",
    "        pass\n",
    "\n",
    "\n",
    "def street_exists(frm, to):\n",
    "    return piv_streets[frm, to, DIST] != 0\n",
    "\n",
    "\n",
    "class City(Event):\n",
    "    def __init__(self):\n",
    "        super().__init__()\n",
    "\n",
    "    def init_config(self, config):\n",
    "        super().init_config(config)\n",
    "        self.config['travelers'] = []  # list of existing travelers\n",
    "        # number of [cars, bikes, pedestrians] on each of streets\n",
    "        self.config['traffic'] = np.zeros((len(streets) + 1, 3))\n",
    "\n",
    "        # for statistics\n",
    "        self.config['trips'] = []\n",
    "        self.config['vehicles'] = []\n",
    "\n",
    "\n",
    "class Traveler(Event):\n",
    "    STATES = ('IDLE', 'TRAVELING', 'DONE')\n",
    "\n",
    "    def __init__(self, location, destination, speed_multiplier=1):\n",
    "        \"\"\"\n",
    "        :param speed_multiplier: how must faster the person walks/embarks/disembarks than average (greater=faster)\n",
    "        \"\"\"\n",
    "        super().__init__()\n",
    "        self.loc = location\n",
    "        self.dest = destination\n",
    "        self.state = 'IDLE'\n",
    "\n",
    "        self.speediness = speed_multiplier\n",
    "\n",
    "        self.traveling_by = 'walk'  # 'car' or 'bike'\n",
    "        self.path = [location]\n",
    "\n",
    "        self._trip_started_at = td('0')\n",
    "\n",
    "        # service variable within trips (differens from one node to next)\n",
    "        self._departed_at = td('0')\n",
    "        self._departed_from = 0  # index of self.path\n",
    "        self._arriving_to = 1\n",
    "        self._arriving_at = td('0')\n",
    "\n",
    "    def trigger(self, start_time, end_time):\n",
    "        if self._check_if_arrived(start_time):  # has already arrived\n",
    "            return\n",
    "        if self.state == 'IDLE':  # time to wake up\n",
    "            self._trip_started_at = start_time\n",
    "            self._departed_at = start_time\n",
    "            self._departed_from = 0  # departed from first element of self.path, whatever node that may be\n",
    "\n",
    "            path_car, dist_car = self.path_between(self.loc, self.dest, by='car')\n",
    "            path_bike, dist_bike = self.path_between(self.loc, self.dest, by='bike')\n",
    "            path_walk, dist_walk = self.path_between(self.loc, self.dest, by='walk')\n",
    "\n",
    "            fastest = np.argmin([dist_car, dist_bike, dist_walk])\n",
    "            paths = [path_car, path_bike, path_walk]\n",
    "\n",
    "            self.path = paths[fastest]\n",
    "            self.traveling_by = ind_to_transp[fastest]\n",
    "\n",
    "            self.state = 'TRAVELING'\n",
    "\n",
    "            self._arriving_to = 1  # arriving to the second element of path (must exist, otherwise we already arrived)\n",
    "            self._arriving_at = self._arrival_time()\n",
    "            self._add_self_to_traffic()\n",
    "\n",
    "        if self.state == 'TRAVELING' and start_time <= self._arriving_at < end_time:  # If arriving now\n",
    "            t = self._arriving_at  # make arrival time the de-facto start time the arrival time\n",
    "            if self.loc != self.path[self._arriving_to]:  # update location and traffic if haven't before\n",
    "                self.loc = self.path[self._arriving_to]\n",
    "                self._remove_self_from_traffic()\n",
    "            if not self._check_if_arrived(t):  # if not arrived to destination, depart to next node\n",
    "\n",
    "                self._departed_at = t\n",
    "                self._departed_from = self._arriving_to\n",
    "                self._arriving_to = self._arriving_to + 1  # next item in `self.path`\n",
    "\n",
    "                try:\n",
    "                    self._arriving_at = self._arrival_time()\n",
    "                except OverflowError:  # takes infinity to go to next stop\n",
    "                    self._arriving_at = end_time  # arrive next time step\n",
    "                    # undo\n",
    "                    self._departed_from, self._arriving_to = self._departed_from - 1, self._arriving_to - 1\n",
    "                    return  # cannot schedule going to next stop, just stay here and retry going here next time\n",
    "\n",
    "                self._add_self_to_traffic()\n",
    "                self.trigger(t, end_time)  # if time left, trigger again\n",
    "\n",
    "    def _add_self_to_traffic(self):\n",
    "        return self._adjust_traffic(1)\n",
    "\n",
    "    def _remove_self_from_traffic(self):\n",
    "        return self._adjust_traffic(-1)\n",
    "\n",
    "    def _adjust_traffic(self, adjust_by=1):\n",
    "        street_id = piv_streets[self.path[self._departed_from], self.path[self._arriving_to], STREET_ID]\n",
    "        self.config['traffic'][street_id, transp_to_ind[self.traveling_by]] += adjust_by\n",
    "\n",
    "    def _arrival_time(self):\n",
    "        travel_time = self.travel_time(self.path[self._departed_from], self.path[self._arriving_to],\n",
    "                                       by=self.traveling_by)\n",
    "        travel_time /= np.random.normal(self.speediness, scale=0.05)  # 5% variation\n",
    "        travel_time *= td('1 second')  # add unit\n",
    "        return self._departed_at + travel_time\n",
    "\n",
    "    def _check_if_arrived(self, time):\n",
    "        \"\"\"Checks if the traveller arrived at the destination nad if so, removes from the map\"\"\"\n",
    "        if self.loc == self.dest:  # already arrived, do nothing\n",
    "            if self.state != 'DONE':  # if wasn't DONE before (just completed a trip)\n",
    "                self.config['trips'].append((self._trip_started_at, time, self.traveling_by, self.path[0], self.dest))\n",
    "            self.state = 'DONE'\n",
    "            return True\n",
    "        return False\n",
    "\n",
    "    def path_between(self, frm, to, by='car'):\n",
    "        paths, dists = self.dijkstra(frm, by=by)\n",
    "        return self.rec_path(paths, to), dists[to]\n",
    "\n",
    "    def travel_time(self, frm, to, by='car'):\n",
    "        if not street_exists(frm, to):  # cannot travel through street that doesn't exist\n",
    "            return np.inf\n",
    "\n",
    "        if by == 'car':\n",
    "            if piv_streets[frm, to, CAR_LANES] == 0:  # no car lanes\n",
    "                return np.inf  # cannot go through here by car\n",
    "            speed = piv_streets[frm, to, MAX_SPEED] * self._get_speed_mult(frm, to, by)\n",
    "\n",
    "        elif by == 'bike':\n",
    "            if piv_streets[frm, to, BIKE_LANES] != 0:  # there is a bike lane yay\n",
    "                speed_multiplier = self._get_speed_mult(frm, to, by)\n",
    "            else:  # no bike lanes, has to use car lanes with a penalty to speed\n",
    "                if piv_streets[frm, to, CAR_LANES] != 0:  # can use a car lane\n",
    "                    speed_multiplier = self._get_speed_mult(frm, to, by='car')\n",
    "                else:  # no car lanes, use sidewalks\n",
    "                    speed_multiplier = self._get_speed_mult(frm, to, by='walk')\n",
    "            speed = self.speediness * AVG_BIKE_SPEED_KMH * speed_multiplier\n",
    "\n",
    "        elif by == 'walk':\n",
    "            speed = self.speediness * AVG_WALK_SPEED_KMH * self._get_speed_mult(frm, to, by)\n",
    "        else:  # unknown, just give the distance\n",
    "            speed = 60 * 60 / 1000\n",
    "\n",
    "        if speed == 0:  # cannot get there, too congested\n",
    "            return np.inf\n",
    "\n",
    "        return piv_streets[frm, to, DIST] / 1000 / speed * 60 * 60  # dist in km, speed in kmh; return time in seconds\n",
    "\n",
    "    def _get_speed_mult(self, frm, to, by='car'):\n",
    "        street_len = piv_streets[frm, to, DIST]\n",
    "        # number of equivalent vehicles (or people) currently on the same street traveling in the same direction\n",
    "        n_vehicles = self.config['traffic'][piv_streets[frm, to, STREET_ID], transp_to_ind[by]]\n",
    "        n_lanes = piv_streets[frm, to, CAR_LANES + transp_to_ind[by]]\n",
    "\n",
    "        if n_lanes == 0:  # no lanes\n",
    "            return 0  # can't go at any speed\n",
    "\n",
    "        occupancy = (n_vehicles * AVG_LENS[transp_to_ind[by]]) / (n_lanes * street_len)\n",
    "        return OCCUPANCY_TO_SPEED_MULT[transp_to_ind[by]](occupancy)\n",
    "\n",
    "    def dijkstra(self, start_node, by='car'):\n",
    "        dists = np.full(n_nodes, np.inf)\n",
    "        frm = np.full(n_nodes, -1)\n",
    "        dists[start_node] = 0\n",
    "\n",
    "        visited = set()\n",
    "\n",
    "        pq = PriorityQueue()\n",
    "        pq.put((0, start_node))\n",
    "\n",
    "        while not pq.empty():\n",
    "            (dist, current_vertex) = pq.get()\n",
    "            visited.add(current_vertex)\n",
    "\n",
    "            for neighbor in range(n_nodes):\n",
    "                if street_exists(current_vertex, neighbor):\n",
    "                    distance = self.travel_time(current_vertex, neighbor, by=by)\n",
    "                    if neighbor not in visited:\n",
    "                        old_cost = dists[neighbor]\n",
    "                        new_cost = dists[current_vertex] + distance\n",
    "                        if new_cost < old_cost:\n",
    "                            pq.put((new_cost, neighbor))\n",
    "                            dists[neighbor] = new_cost\n",
    "                            frm[neighbor] = current_vertex\n",
    "        return frm, dists\n",
    "\n",
    "    @staticmethod\n",
    "    def rec_path(path, curr_v):\n",
    "        if path[curr_v] == -1:  # hit starting node\n",
    "            return [curr_v]\n",
    "        return Traveler.rec_path(path, path[curr_v]) + [curr_v]\n",
    "\n",
    "\n",
    "class TravelerGenerator(Event):\n",
    "    DEFAULT_ARRIVAL_FUNC = lambda time: (1.2 + np.cos(np.pi * ((time.total_seconds() / 3600) % 24 - 7) / 6)) / 60\n",
    "\n",
    "    def __init__(self, arrivals_per_second_func=DEFAULT_ARRIVAL_FUNC, speediness_dist=stats.norm(1, 0.05)):\n",
    "        \"\"\"\n",
    "        :param callable arrivals_per_second_func: function that returns arrival rate at a given moment of the day\n",
    "            (one timedelta argument)\n",
    "        :param stats.dist speediness_dist: A distribution to sample speediness parameters of people from\n",
    "            1 - normal speed, >1 - fast (young) passenger, <1 - slower (old) passenger\n",
    "        \"\"\"\n",
    "        super().__init__()\n",
    "        # Convert arrival rate to per-seconds for easier storage\n",
    "        self.arrival_func = arrivals_per_second_func\n",
    "        self._speedines_dist = speediness_dist\n",
    "\n",
    "    def trigger(self, start_time, end_time):\n",
    "        arrival_rate = (end_time - start_time).total_seconds() * self.arrival_func(start_time)  # per this interval\n",
    "        n_new_travelers = stats.poisson.rvs(arrival_rate)\n",
    "        for traveler in self.config['travelers']:\n",
    "            if traveler.state == 'DONE':  # traveller already arrived, can be reused\n",
    "                self.reset_traveler(traveler, self._random_location())\n",
    "                n_new_travelers -= 1\n",
    "        # If still need to generate more travellers, make new ones\n",
    "        for _ in range(n_new_travelers):\n",
    "            loc = self._random_location()\n",
    "            dest = self._random_location()\n",
    "            self.add_new_traveler(self.config, Traveler(location=loc, destination=dest,\n",
    "                                                        speed_multiplier=self._speedines_dist.rvs()))\n",
    "\n",
    "    @staticmethod\n",
    "    def _random_location():\n",
    "        return np.random.randint(0, n_nodes)\n",
    "\n",
    "    @staticmethod\n",
    "    def add_new_traveler(config, new_traveller: Traveler):\n",
    "        config['travelers'].append(new_traveller)\n",
    "        config['events'].append(new_traveller)\n",
    "        new_traveller.init_config(config)\n",
    "        return new_traveller\n",
    "\n",
    "    @staticmethod\n",
    "    def reset_traveler(traveller: Traveler, new_destination):\n",
    "        traveller.state = 'IDLE'\n",
    "        traveller.dest = new_destination\n",
    "        return traveller\n",
    "\n",
    "\n",
    "pos = np.array(list(nx.spring_layout(nx.DiGraph(list(streets[:, :2])), seed=0).values()))\n",
    "\n",
    "\n",
    "def get_city_potter(plot_travelers=False):\n",
    "    \"\"\"\n",
    "    Returns a verbose function that plots the city at every moment in time\n",
    "    :param plot_travelers: whether individual travelers should be plotted in addition to car traffic (slows down the aiat\n",
    "    \"\"\"\n",
    "    # service variables\n",
    "    has_car_lanes = streets[:, 2 + CAR_LANES] != 0\n",
    "    streets_graph = nx.DiGraph(list(streets[has_car_lanes, :2]))\n",
    "    cmap = mpl.cm.get_cmap('cool')\n",
    "    base_width = 2\n",
    "    widths = (streets[:, 2 + CAR_LANES: SIDEWALKS + 3] * [3, 1.5, 1]).sum(axis=1)\n",
    "    widths = widths / widths.max() * base_width\n",
    "\n",
    "    transp_to_icon = {'car': '🚗', 'bike': '🚲', 'walk': '🚶'}\n",
    "\n",
    "    plt.clf()\n",
    "    plt.cla()\n",
    "    fig = plt.figure()\n",
    "    # a list of lists of artists for animation\n",
    "    animate_artists = []\n",
    "\n",
    "    def plot_city(time, config):\n",
    "        \"\"\"A verbose function that plots the state of the city at every moment in time\"\"\"\n",
    "        animate_artists_step = []\n",
    "\n",
    "        if plot_travelers:\n",
    "            for i, traveler in enumerate(config['travelers']):\n",
    "                if traveler.state in ('IDLE', 'DONE'):  # don't show if hasn't started or finished\n",
    "                    continue\n",
    "                trip_complete_percent = ((time - traveler._departed_at)\n",
    "                                         / (traveler._arriving_at - traveler._departed_at))\n",
    "                traveler_xy = pos[traveler.loc]\n",
    "                offset = trip_complete_percent * (pos[traveler.path[traveler._arriving_to]]\n",
    "                                                  - traveler_xy)\n",
    "                animate_artists_step.append(\n",
    "                    plt.annotate(transp_to_icon[traveler.traveling_by], xy=traveler_xy + offset, ha='center',\n",
    "                                 va='center',\n",
    "                                 fontname='Segoe UI Emoji'))\n",
    "\n",
    "        traveling = np.array([tr.traveling_by for tr in config['travelers'] if tr.state != 'DONE'] + ['dummy'])\n",
    "        by_car, by_bike, by_walk = (traveling == 'car').sum(), (traveling == 'bike').sum(), (traveling == 'walk').sum()\n",
    "\n",
    "        config['vehicles'].append([by_car, by_bike, by_walk])  # statistics\n",
    "\n",
    "        animate_artists_step.append(plt.annotate(\n",
    "            f'Time:    {time}\\n'\n",
    "            f'Cars:    {by_car}\\n'\n",
    "            f'Bikes:   {by_bike}\\n'\n",
    "            f'Walkers: {by_walk}\\n',\n",
    "            # f\"Trips completed: {len(config['trips'])}\",\n",
    "            xy=(-1, 1),\n",
    "            ha='left',\n",
    "            va='top',\n",
    "        ))\n",
    "\n",
    "        colors = cmap(1 - np.array([Traveler._get_speed_mult(config['events'][0], frm, to, by='car')\n",
    "                                    for frm, to in streets[:, :2]]))\n",
    "\n",
    "        nodes = nx.draw_networkx_nodes(streets_graph, pos)\n",
    "        edges = nx.draw_networkx_edges(streets_graph, pos, edge_color=colors, arrows=True, width=widths,\n",
    "                                       connectionstyle='arc3, rad = 0.1')\n",
    "        labels = list(nx.draw_networkx_labels(streets_graph, pos).values())\n",
    "\n",
    "        animate_artists_step.append(nodes)\n",
    "        animate_artists_step += edges\n",
    "        animate_artists_step += labels\n",
    "\n",
    "        animate_artists.append(animate_artists_step)\n",
    "\n",
    "    return fig, animate_artists, plot_city"
   ]
  },
  {
   "cell_type": "code",
   "execution_count": 4,
   "metadata": {
    "pycharm": {
     "name": "#%%\n"
    }
   },
   "outputs": [
    {
     "data": {
      "image/png": "[encoded data removed]",
      "text/plain": [
       "<Figure size 432x288 with 1 Axes>"
      ]
     },
     "metadata": {
      "needs_background": "light"
     },
     "output_type": "display_data"
    },
    {
     "data": {
      "text/plain": [
       "<Figure size 432x288 with 0 Axes>"
      ]
     },
     "metadata": {},
     "output_type": "display_data"
    }
   ],
   "source": [
    "# First, run for 8 hours to make an animation\n",
    "fig, animate_artists, city_plotter = get_city_potter(plot_travelers=True)\n",
    "city = City()\n",
    "env_orig = Environment(\n",
    "    events=[city, TravelerGenerator(lambda t: 100 * TravelerGenerator.DEFAULT_ARRIVAL_FUNC(t))],\n",
    "    run_for=td('8 hours'),\n",
    "    timeunit=td('10 seconds'),\n",
    "    store_history=False\n",
    ")\n",
    "env_orig.run(verbose_func=city_plotter)"
   ]
  },
  {
   "cell_type": "code",
   "execution_count": 5,
   "metadata": {
    "pycharm": {
     "name": "#%%\n"
    }
   },
   "outputs": [
    {
     "name": "stderr",
     "output_type": "stream",
     "text": [
      "0it [00:00, ?it/s]\n"
     ]
    },
    {
     "data": {
      "text/html": [
       "<video src=\"anim-original.mp4\" controls  >\n",
       "      Your browser does not support the <code>video</code> element.\n",
       "    </video>"
      ],
      "text/plain": [
       "<IPython.core.display.Video object>"
      ]
     },
     "execution_count": 5,
     "metadata": {},
     "output_type": "execute_result"
    }
   ],
   "source": [
    "from IPython.display import Video\n",
    "\n",
    "\n",
    "class tqdmlist(list):\n",
    "    \"\"\"Custom class to show the progress of the animation creation with tqdm (to not bother with progress callback)\"\"\"\n",
    "\n",
    "    def __iter__(self):\n",
    "        return self.tqdm_iter(super(tqdmlist, self).__iter__())\n",
    "\n",
    "    @staticmethod\n",
    "    def tqdm_iter(itr):\n",
    "        for it in tqdm(list(itr)):  # to list to show progress\n",
    "            yield it\n",
    "\n",
    "\n",
    "p_animate_artists = tqdmlist(animate_artists)\n",
    "ani = anim.ArtistAnimation(fig, p_animate_artists, interval=50, blit=True)\n",
    "ani.save('anim-original.mp4', writer='ffmpeg')  # to_html5_video() can't find ffmpeg, so displaying this way\n",
    "Video(\"anim-original.mp4\")"
   ]
  },
  {
   "cell_type": "code",
   "execution_count": 6,
   "metadata": {
    "pycharm": {
     "name": "#%%\n"
    }
   },
   "outputs": [
    {
     "data": {
      "image/png": "[encoded data removed]",
      "text/plain": [
       "<Figure size 432x288 with 1 Axes>"
      ]
     },
     "metadata": {
      "needs_background": "light"
     },
     "output_type": "display_data"
    },
    {
     "data": {
      "text/plain": [
       "<Figure size 432x288 with 0 Axes>"
      ]
     },
     "metadata": {},
     "output_type": "display_data"
    }
   ],
   "source": [
    "# now run for an entire day\n",
    "fig, animate_artists, city_plotter = get_city_potter(plot_travelers=False)\n",
    "city = City()\n",
    "env_orig = Environment(\n",
    "    events=[city, TravelerGenerator(lambda t: 100 * TravelerGenerator.DEFAULT_ARRIVAL_FUNC(t))],\n",
    "    run_for=td('1 day'),\n",
    "    timeunit=td('10 seconds'),\n",
    "    store_history=False\n",
    ")\n",
    "env_orig.run(verbose_func=city_plotter)"
   ]
  },
  {
   "cell_type": "markdown",
   "metadata": {
    "pycharm": {
     "name": "#%% md\n"
    }
   },
   "source": [
    "## Superblock Design"
   ]
  },
  {
   "cell_type": "code",
   "execution_count": 7,
   "metadata": {
    "pycharm": {
     "name": "#%%\n"
    }
   },
   "outputs": [],
   "source": [
    "streets = np.array([\n",
    "    # Roads around the neighborhood\n",
    "    [0, 1, 300, 50, 1, 1, 4, 1],\n",
    "    [1, 2, 300, 50, 1, 1, 4, 1],\n",
    "    [2, 3, 220, 50, 1, 0, 2, 1],\n",
    "    [3, 4, 170, 50, 1, 0, 2, 1],\n",
    "    [7, 8, 200, 50, 1, 1, 2, 1],\n",
    "    [8, 0, 170, 30, 1, 1, 2, 1],\n",
    "    [7, 11, 140, 50, 1, 1, 2, 1],\n",
    "    [11, 12, 230, 50, 1, 1, 2, 1],\n",
    "    [12, 13, 150, 50, 1, 1, 2, 1],\n",
    "    [13, 14, 300, 50, 2, 1, 2, 1],\n",
    "    [14, 15, 120, 50, 2, 1, 2, 1],\n",
    "    [15, 16, 200, 50, 2, 1, 2, 1],\n",
    "    [16, 17, 130, 50, 1, 1, 2, 1],\n",
    "    [17, 4, 120, 50, 1, 1, 2, 1],\n",
    "    # One-way roads inside\n",
    "    [4, 5, 200, 50, 1, 1, 2, 0],\n",
    "    [5, 4, 200, 50, 0, 1, 2, 0],\n",
    "    [5, 6, 120, 50, 0, 2, 2, 1],\n",
    "    [6, 7, 300, 50, 0, 1, 2, 0],\n",
    "    [7, 6, 300, 50, 1, 1, 2, 0],\n",
    "    [8, 9, 250, 10, 0, 1, 2, 0],\n",
    "    [9, 8, 250, 10, 1, 1, 2, 0],\n",
    "    [1, 9, 250, 10, 1, 1, 2, 0],\n",
    "    [9, 1, 250, 10, 0, 1, 2, 0],\n",
    "    [1, 10, 250, 10, 1, 1, 2, 0],\n",
    "    [10, 1, 250, 10, 0, 1, 2, 0],\n",
    "    [9, 10, 120, 10, 0, 2, 2, 1],\n",
    "    [3, 10, 170, 10, 0, 1, 2, 0],\n",
    "    [10, 3, 170, 10, 1, 1, 2, 0],\n",
    "    [6, 9, 170, 10, 1, 1, 2, 0],\n",
    "    [9, 6, 170, 10, 0, 1, 2, 0],\n",
    "    [5, 10, 170, 10, 1, 1, 2, 0],\n",
    "    [10, 5, 170, 10, 0, 1, 2, 0],\n",
    "    [11, 18, 250, 10, 1, 1, 2, 0],\n",
    "    [18, 11, 250, 10, 0, 1, 2, 0],\n",
    "    [12, 18, 200, 10, 0, 1, 2, 0],\n",
    "    [18, 12, 200, 10, 1, 1, 2, 0],\n",
    "    [14, 18, 220, 10, 1, 1, 2, 0],\n",
    "    [18, 14, 220, 10, 0, 1, 2, 0],\n",
    "    [18, 19, 200, 10, 0, 1, 2, 1],\n",
    "    [17, 19, 200, 10, 1, 1, 2, 0],\n",
    "    [19, 17, 200, 10, 0, 1, 2, 0],\n",
    "    [5, 19, 250, 10, 0, 1, 2, 0],\n",
    "    [6, 19, 260, 10, 0, 1, 2, 0],\n",
    "    [15, 19, 400, 10, 0, 1, 2, 0],\n",
    "    [19, 15, 400, 10, 1, 1, 2, 0],\n",
    "    [14, 19, 460, 10, 0, 1, 2, 1],\n",
    "])\n",
    "# Add bidirectional streets from the other direction\n",
    "bidir = streets[streets[:, -1] == 1].copy()\n",
    "bidir[:, [0, 1]] = bidir[:, [1, 0]]\n",
    "streets = np.vstack([streets, bidir])\n",
    "streets\n",
    "# %%\n",
    "n_nodes = int(streets[:, :2].max() + 1)\n",
    "streets[:, -1] = np.arange(len(streets))  # indices of streets\n",
    "piv_streets = (pd.pivot(pd.DataFrame([streets[:, 0], streets[:, 1], streets[:, 2:]]).T, index=0, columns=1, values=2)\n",
    "               .reindex(range(n_nodes)).reindex(range(n_nodes), axis=1))\n",
    "\n",
    "piv_streets = np.array([[list(v) if type(v) == np.ndarray else [0, 0, 0, 0, 0, 0] for v in row]\n",
    "                        for row in piv_streets.values])"
   ]
  },
  {
   "cell_type": "code",
   "execution_count": 8,
   "metadata": {
    "pycharm": {
     "name": "#%%\n"
    }
   },
   "outputs": [
    {
     "name": "stderr",
     "output_type": "stream",
     "text": [
      "0it [00:00, ?it/s]\n"
     ]
    },
    {
     "data": {
      "text/html": [
       "<video src=\"anim-new.mp4\" controls  >\n",
       "      Your browser does not support the <code>video</code> element.\n",
       "    </video>"
      ],
      "text/plain": [
       "<IPython.core.display.Video object>"
      ]
     },
     "execution_count": 8,
     "metadata": {},
     "output_type": "execute_result"
    },
    {
     "data": {
      "image/png": "[encoded data removed]",
      "text/plain": [
       "<Figure size 432x288 with 1 Axes>"
      ]
     },
     "metadata": {
      "needs_background": "light"
     },
     "output_type": "display_data"
    },
    {
     "data": {
      "text/plain": [
       "<Figure size 432x288 with 0 Axes>"
      ]
     },
     "metadata": {},
     "output_type": "display_data"
    }
   ],
   "source": [
    "fig, animate_artists, city_plotter = get_city_potter(plot_travelers=True)\n",
    "city = City()\n",
    "env_new = Environment(\n",
    "    events=[city, TravelerGenerator(lambda t: 5 * n_nodes * TravelerGenerator.DEFAULT_ARRIVAL_FUNC(t))],\n",
    "    run_for=td('8 hours'),\n",
    "    timeunit=td('10 seconds'),\n",
    "    store_history=False\n",
    ")\n",
    "env_new.run(verbose_func=city_plotter)\n",
    "\n",
    "p_animate_artists = tqdmlist(animate_artists)\n",
    "ani = anim.ArtistAnimation(fig, p_animate_artists, interval=50, blit=True)\n",
    "ani.save('anim-new.mp4', writer='ffmpeg')\n",
    "Video(\"anim-new.mp4\")"
   ]
  },
  {
   "cell_type": "code",
   "execution_count": 9,
   "metadata": {
    "pycharm": {
     "name": "#%%\n"
    }
   },
   "outputs": [
    {
     "data": {
      "image/png": "[encoded data removed]",
      "text/plain": [
       "<Figure size 432x288 with 1 Axes>"
      ]
     },
     "metadata": {
      "needs_background": "light"
     },
     "output_type": "display_data"
    },
    {
     "data": {
      "text/plain": [
       "<Figure size 432x288 with 0 Axes>"
      ]
     },
     "metadata": {},
     "output_type": "display_data"
    }
   ],
   "source": [
    "# run for the whole day\n",
    "fig, animate_artists, city_plotter = get_city_potter(plot_travelers=True)\n",
    "city = City()\n",
    "env_new = Environment(\n",
    "    events=[city, TravelerGenerator(lambda t: 5 * n_nodes * TravelerGenerator.DEFAULT_ARRIVAL_FUNC(t))],\n",
    "    run_for=td('1 day'),\n",
    "    timeunit=td('10 seconds'),\n",
    "    store_history=False\n",
    ")\n",
    "env_new.run(verbose_func=city_plotter)"
   ]
  },
  {
   "cell_type": "code",
   "execution_count": 10,
   "outputs": [
    {
     "name": "stderr",
     "output_type": "stream",
     "text": [
      "<ipython-input-10-26f8099b4ab1>:56: UserWarning: FixedFormatter should only be used together with FixedLocator\n",
      "  ax_bottom.set_xticklabels([pd.Timestamp(x * 60 * 60 * 24 * 1e9).strftime('%#I %p') for x in ax_bottom.get_xticks()])\n"
     ]
    },
    {
     "data": {
      "text/plain": [
       "<Figure size 432x288 with 0 Axes>"
      ]
     },
     "metadata": {},
     "output_type": "display_data"
    },
    {
     "data": {
      "image/png": "[encoded data removed]",
      "text/plain": [
       "<Figure size 432x360 with 2 Axes>"
      ]
     },
     "metadata": {
      "needs_background": "light"
     },
     "output_type": "display_data"
    }
   ],
   "source": [
    "plt.close('all')\n",
    "plt.cla()\n",
    "plt.clf()\n",
    "vehicles_orig = pd.DataFrame(env_orig.config['vehicles'], index=env_orig.timeline, columns=['cars', 'bikes', 'walkers'])\n",
    "vehicles_new = pd.DataFrame(env_new.config['vehicles'], index=env_new.timeline, columns=['cars', 'bikes', 'walkers'])\n",
    "\n",
    "cols = ['start', 'end', 'by', 'from', 'to']\n",
    "trips_orig = pd.DataFrame(env_orig.config['trips'], columns=cols)\n",
    "trips_new = pd.DataFrame(env_new.config['trips'], columns=cols)\n",
    "\n",
    "trips_orig['duration'] = trips_orig['end'] - trips_orig['start']\n",
    "trips_new['duration'] = trips_new['end'] - trips_new['start']\n",
    "\n",
    "trips_orig['duration_min'] = trips_orig['duration'].astype('int64') / 1e9 / 60\n",
    "trips_new['duration_min'] = trips_new['duration'].astype('int64') / 1e9 / 60\n",
    "\n",
    "rolling_dur_orig = (trips_orig.set_index('start').sort_index().rolling(\n",
    "    window=td('1 hour'), min_periods=(trips_orig['start'] < td('1 hour')).sum())\n",
    "    .mean()['duration_min'])\n",
    "rolling_dur_new = (trips_new.set_index('start').sort_index().rolling(\n",
    "    window=td('1 hour'), min_periods=(trips_new['start'] < td('1 hour')).sum())\n",
    "    .mean()['duration_min'])\n",
    "\n",
    "fig, (ax_top, ax_bottom) = plt.subplots(nrows=2, figsize=(6, 5))\n",
    "\n",
    "ref_date = pd.Timestamp.now().normalize()\n",
    "ax_top.plot(ref_date + vehicles_orig.index, vehicles_orig['cars'].rolling(10 * 60).mean(),\n",
    "            color='magenta', label='Original', lw=3)\n",
    "ax_top.plot(ref_date + vehicles_new.index, vehicles_new['cars'].rolling(10 * 60).mean(),\n",
    "            color='cyan', label='Superblock', lw=3)\n",
    "\n",
    "ax_top.set_ylabel('Number of cars on the road')\n",
    "ax_top.set_xticks([])\n",
    "ax_top.grid(True, axis='y')\n",
    "ax_top.legend(loc='upper left')\n",
    "ax_top.set_title('Number of cars on the road and average trip duration over time\\n'\n",
    "                 'In the original city design and the Superblock design')\n",
    "\n",
    "ax_bottom.plot(ref_date + rolling_dur_orig.index, rolling_dur_orig,\n",
    "               color='magenta', lw=3, label='Original')\n",
    "ax_bottom.plot(ref_date + rolling_dur_new.index, rolling_dur_new,\n",
    "               color='cyan', lw=3, label='Superblock')\n",
    "\n",
    "ax_bottom.set_xticklabels([pd.Timestamp(x * 60 * 60 * 24 * 1e9).strftime('%#I %p') for x in ax_bottom.get_xticks()])\n",
    "ax_bottom.set_ylabel('Avg travel time (minutes)')\n",
    "ax_bottom.set_xlabel('Time of the day')\n",
    "ax_bottom.set_ylim(0, 2)\n",
    "ax_bottom.grid(True, axis='y')\n",
    "plt.tight_layout()\n",
    "plt.show()"
   ],
   "metadata": {
    "collapsed": false,
    "pycharm": {
     "name": "#%%\n"
    }
   }
  },
  {
   "cell_type": "code",
   "execution_count": 11,
   "outputs": [
    {
     "name": "stdout",
     "output_type": "stream",
     "text": [
      "Superblock design is faster by: 0 days 00:00:02.104860004\n",
      "p = 0.00011331475496178324\n"
     ]
    }
   ],
   "source": [
    "print('Superblock design is faster by:', trips_orig['duration'].mean()-trips_new['duration'].mean())\n",
    "print('p =', stats.ttest_ind(trips_orig['duration_min'], trips_new['duration_min'])[1])"
   ],
   "metadata": {
    "collapsed": false,
    "pycharm": {
     "name": "#%%\n"
    }
   }
  }
 ],
 "metadata": {
  "kernelspec": {
   "display_name": "Python 3",
   "language": "python",
   "name": "python3"
  },
  "language_info": {
   "codemirror_mode": {
    "name": "ipython",
    "version": 3
   },
   "file_extension": ".py",
   "mimetype": "text/x-python",
   "name": "python",
   "nbconvert_exporter": "python",
   "pygments_lexer": "ipython3",
   "version": "3.9.0"
  },
  "toc": {
   "base_numbering": 1,
   "nav_menu": {},
   "number_sections": true,
   "sideBar": true,
   "skip_h1_title": false,
   "title_cell": "Table of Contents",
   "title_sidebar": "Contents",
   "toc_cell": false,
   "toc_position": {},
   "toc_section_display": true,
   "toc_window_display": false
  },
  "varInspector": {
   "cols": {
    "lenName": 16,
    "lenType": 16,
    "lenVar": 40
   },
   "kernels_config": {
    "python": {
     "delete_cmd_postfix": "",
     "delete_cmd_prefix": "del ",
     "library": "var_list.py",
     "varRefreshCmd": "print(var_dic_list())"
    },
    "r": {
     "delete_cmd_postfix": ") ",
     "delete_cmd_prefix": "rm(",
     "library": "var_list.r",
     "varRefreshCmd": "cat(var_dic_list()) "
    }
   },
   "types_to_exclude": [
    "module",
    "function",
    "builtin_function_or_method",
    "instance",
    "_Feature"
   ],
   "window_display": false
  }
 },
 "nbformat": 4,
 "nbformat_minor": 1
}